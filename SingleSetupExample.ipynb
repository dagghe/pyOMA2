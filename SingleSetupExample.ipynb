{
 "cells": [
  {
   "cell_type": "code",
   "execution_count": 15,
   "id": "5772675d-f285-4935-8256-1c819f50604c",
   "metadata": {
    "tags": []
   },
   "outputs": [],
   "source": [
    "import os\n",
    "import sys\n",
    "# Add the directory we executed the script from to path:\n",
    "sys.path.insert(0, os.path.realpath('__file__'))\n",
    "\n",
    "import numpy as np\n",
    "import pandas as pd\n",
    "import matplotlib.pyplot as plt\n",
    "\n",
    "from pyoma2.algorithm import FDD_algo,FSDD_algo,SSIcov_algo\n",
    "from pyoma2.OMA import SingleSetup"
   ]
  },
  {
   "cell_type": "code",
   "execution_count": 16,
   "id": "4617ab82-2665-4bbc-87a8-91f055e35c00",
   "metadata": {
    "tags": []
   },
   "outputs": [],
   "source": [
    "# load example dataset for single setup\n",
    "data = np.load(\"./src/pyoma2/test_data/palisaden/Palisaden_dataset.npy\", allow_pickle=True)"
   ]
  },
  {
   "cell_type": "code",
   "execution_count": 17,
   "id": "87ffdfb6-031b-4d45-aa55-294e198cc63d",
   "metadata": {
    "tags": []
   },
   "outputs": [],
   "source": [
    "# import geometry files\n",
    "# Names of the channels\n",
    "Names = [\"ch1\", \"ch2\", \"ch3\", \"ch4\", \"ch5\", \"ch6\"]\n",
    "# Common Backgroung nodes and lines\n",
    "BG_nodes = np.loadtxt(\"./src/pyoma2/test_data/palisaden/BG_nodes.txt\")\n",
    "BG_lines = np.loadtxt(\"./src/pyoma2/test_data/palisaden/BG_lines.txt\").astype(int)\n",
    "# Geometry 1\n",
    "sens_coord = pd.read_csv(\"./src/pyoma2/test_data/palisaden/sens_coord.txt\", sep=\"\\t\")\n",
    "sens_dir = np.loadtxt(\"./src/pyoma2/test_data/palisaden/sens_dir.txt\")\n",
    "# Geometry 2\n",
    "sens_lines = np.loadtxt(\"./src/pyoma2/test_data/palisaden/sens_lines.txt\").astype(int)\n",
    "pts_coord = pd.read_csv(\"./src/pyoma2/test_data/palisaden/pts_coord.txt\", sep=\"\\t\")\n",
    "sens_map = pd.read_csv(\"./src/pyoma2/test_data/palisaden/sens_map.txt\", sep=\"\\t\")\n",
    "sens_sign = pd.read_csv(\"./src/pyoma2/test_data/palisaden/sens_sign.txt\", sep=\"\\t\")"
   ]
  },
  {
   "cell_type": "code",
   "execution_count": 21,
   "id": "ca2b6758-9d51-421e-85d3-24482d8a4570",
   "metadata": {
    "tags": []
   },
   "outputs": [],
   "source": [
    "fs = 100  # sampling frequency\n",
    "# create single setup\n",
    "Pali_ss = SingleSetup(data, fs)\n"
   ]
  },
  {
   "cell_type": "code",
   "execution_count": 23,
   "id": "a562b5a6-9e13-41ed-b1a9-80b9bc662777",
   "metadata": {
    "tags": []
   },
   "outputs": [],
   "source": [
    "idx_list = [0,1,2]"
   ]
  },
  {
   "cell_type": "code",
   "execution_count": 26,
   "id": "162ff767-dc1b-462f-8adb-5e3a0465bbed",
   "metadata": {
    "tags": []
   },
   "outputs": [
    {
     "data": {
      "text/plain": [
       "(540000, 3)"
      ]
     },
     "execution_count": 26,
     "metadata": {},
     "output_type": "execute_result"
    }
   ],
   "source": [
    "data[:,idx_list].shape"
   ]
  },
  {
   "cell_type": "code",
   "execution_count": 27,
   "id": "100e4b09-a547-416c-bde5-ff4e29186d5f",
   "metadata": {
    "tags": []
   },
   "outputs": [
    {
     "data": {
      "text/plain": [
       "(540000, 6)"
      ]
     },
     "execution_count": 27,
     "metadata": {},
     "output_type": "execute_result"
    }
   ],
   "source": [
    "data.shape"
   ]
  },
  {
   "cell_type": "code",
   "execution_count": 22,
   "id": "56b141fa-1c69-4c69-9367-b16790ef508c",
   "metadata": {
    "tags": []
   },
   "outputs": [
    {
     "ename": "AttributeError",
     "evalue": "'SingleSetup' object has no attribute 'decimate_data'",
     "output_type": "error",
     "traceback": [
      "\u001b[1;31m---------------------------------------------------------------------------\u001b[0m",
      "\u001b[1;31mAttributeError\u001b[0m                            Traceback (most recent call last)",
      "Cell \u001b[1;32mIn[22], line 3\u001b[0m\n\u001b[0;32m      1\u001b[0m \u001b[38;5;66;03m# Detrend and decimate\u001b[39;00m\n\u001b[0;32m      2\u001b[0m \u001b[38;5;66;03m# Pali_ss.detrend_data()\u001b[39;00m\n\u001b[1;32m----> 3\u001b[0m Pali_ss\u001b[38;5;241m.\u001b[39mdecimate_data(q\u001b[38;5;241m=\u001b[39m\u001b[38;5;241m4\u001b[39m, axis\u001b[38;5;241m=\u001b[39m\u001b[38;5;241m0\u001b[39m) \u001b[38;5;66;03m# q=decimation factor\u001b[39;00m\n\u001b[0;32m      4\u001b[0m \u001b[38;5;28mprint\u001b[39m(Pali_ss\u001b[38;5;241m.\u001b[39mfs)\n",
      "\u001b[1;31mAttributeError\u001b[0m: 'SingleSetup' object has no attribute 'decimate_data'"
     ]
    }
   ],
   "source": [
    "# Detrend and decimate\n",
    "# Pali_ss.detrend_data()\n",
    "Pali_ss.decimate_data(q=4, axis=0) # q=decimation factor\n",
    "print(Pali_ss.fs)"
   ]
  },
  {
   "cell_type": "code",
   "execution_count": null,
   "id": "0172000b-f676-4371-bec5-4f639700857d",
   "metadata": {},
   "outputs": [],
   "source": []
  }
 ],
 "metadata": {
  "kernelspec": {
   "display_name": "Python 3 (ipykernel)",
   "language": "python",
   "name": "python3"
  },
  "language_info": {
   "codemirror_mode": {
    "name": "ipython",
    "version": 3
   },
   "file_extension": ".py",
   "mimetype": "text/x-python",
   "name": "python",
   "nbconvert_exporter": "python",
   "pygments_lexer": "ipython3",
   "version": "3.11.5"
  }
 },
 "nbformat": 4,
 "nbformat_minor": 5
}
